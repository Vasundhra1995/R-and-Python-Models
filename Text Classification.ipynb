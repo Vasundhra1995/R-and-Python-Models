{
 "cells": [
  {
   "cell_type": "code",
   "execution_count": 1,
   "metadata": {
    "ExecuteTime": {
     "end_time": "2021-07-02T10:35:27.443633Z",
     "start_time": "2021-07-02T10:35:26.797850Z"
    }
   },
   "outputs": [],
   "source": [
    "import os\n",
    "import numpy as np\n",
    "import pandas as pd"
   ]
  },
  {
   "cell_type": "code",
   "execution_count": 2,
   "metadata": {
    "ExecuteTime": {
     "end_time": "2021-07-02T10:35:27.459593Z",
     "start_time": "2021-07-02T10:35:27.447624Z"
    }
   },
   "outputs": [],
   "source": [
    "#os.chdir(r\"D:\\python\\NLP\")"
   ]
  },
  {
   "cell_type": "code",
   "execution_count": 3,
   "metadata": {
    "ExecuteTime": {
     "end_time": "2021-07-02T10:35:27.507501Z",
     "start_time": "2021-07-02T10:35:27.462584Z"
    }
   },
   "outputs": [],
   "source": [
    "train=pd.read_csv(\"training.csv\")\n",
    "test=pd.read_csv(\"test.csv\")"
   ]
  },
  {
   "cell_type": "code",
   "execution_count": 29,
   "metadata": {
    "ExecuteTime": {
     "end_time": "2021-07-02T10:42:11.237528Z",
     "start_time": "2021-07-02T10:42:11.223565Z"
    }
   },
   "outputs": [
    {
     "name": "stdout",
     "output_type": "stream",
     "text": [
      "<class 'pandas.core.frame.DataFrame'>\n",
      "RangeIndex: 3464 entries, 0 to 3463\n",
      "Data columns (total 3 columns):\n",
      " #   Column    Non-Null Count  Dtype \n",
      "---  ------    --------------  ----- \n",
      " 0   id        3464 non-null   int64 \n",
      " 1   category  3464 non-null   object\n",
      " 2   text      3464 non-null   object\n",
      "dtypes: int64(1), object(2)\n",
      "memory usage: 81.3+ KB\n"
     ]
    }
   ],
   "source": [
    "train.info()"
   ]
  },
  {
   "cell_type": "code",
   "execution_count": 28,
   "metadata": {
    "ExecuteTime": {
     "end_time": "2021-07-02T10:42:09.222157Z",
     "start_time": "2021-07-02T10:42:09.202213Z"
    }
   },
   "outputs": [],
   "source": [
    "train['category'] = train['category'].astype(str)"
   ]
  },
  {
   "cell_type": "code",
   "execution_count": 30,
   "metadata": {
    "ExecuteTime": {
     "end_time": "2021-07-02T10:42:52.975777Z",
     "start_time": "2021-07-02T10:42:52.952837Z"
    }
   },
   "outputs": [
    {
     "data": {
      "text/html": [
       "<div>\n",
       "<style scoped>\n",
       "    .dataframe tbody tr th:only-of-type {\n",
       "        vertical-align: middle;\n",
       "    }\n",
       "\n",
       "    .dataframe tbody tr th {\n",
       "        vertical-align: top;\n",
       "    }\n",
       "\n",
       "    .dataframe thead th {\n",
       "        text-align: right;\n",
       "    }\n",
       "</style>\n",
       "<table border=\"1\" class=\"dataframe\">\n",
       "  <thead>\n",
       "    <tr style=\"text-align: right;\">\n",
       "      <th></th>\n",
       "      <th>id</th>\n",
       "      <th>category</th>\n",
       "      <th>text</th>\n",
       "    </tr>\n",
       "  </thead>\n",
       "  <tbody>\n",
       "    <tr>\n",
       "      <th>0</th>\n",
       "      <td>959</td>\n",
       "      <td>0</td>\n",
       "      <td>5573 1189 4017 1207 4768 8542 17 1189 5085 5773</td>\n",
       "    </tr>\n",
       "    <tr>\n",
       "      <th>1</th>\n",
       "      <td>994</td>\n",
       "      <td>0</td>\n",
       "      <td>6315 7507 6700 4742 1944 2692 3647 4413 6700</td>\n",
       "    </tr>\n",
       "    <tr>\n",
       "      <th>2</th>\n",
       "      <td>995</td>\n",
       "      <td>0</td>\n",
       "      <td>5015 8067 5335 1615 7957 5773</td>\n",
       "    </tr>\n",
       "    <tr>\n",
       "      <th>3</th>\n",
       "      <td>996</td>\n",
       "      <td>0</td>\n",
       "      <td>2925 7199 1994 4647 7455 5773 4518 2734 2807 8...</td>\n",
       "    </tr>\n",
       "    <tr>\n",
       "      <th>4</th>\n",
       "      <td>997</td>\n",
       "      <td>0</td>\n",
       "      <td>7136 1207 6781 237 4971 3669 6193</td>\n",
       "    </tr>\n",
       "  </tbody>\n",
       "</table>\n",
       "</div>"
      ],
      "text/plain": [
       "    id category                                               text\n",
       "0  959        0    5573 1189 4017 1207 4768 8542 17 1189 5085 5773\n",
       "1  994        0       6315 7507 6700 4742 1944 2692 3647 4413 6700\n",
       "2  995        0                      5015 8067 5335 1615 7957 5773\n",
       "3  996        0  2925 7199 1994 4647 7455 5773 4518 2734 2807 8...\n",
       "4  997        0                  7136 1207 6781 237 4971 3669 6193"
      ]
     },
     "execution_count": 30,
     "metadata": {},
     "output_type": "execute_result"
    }
   ],
   "source": [
    "train.head()"
   ]
  },
  {
   "cell_type": "code",
   "execution_count": 81,
   "metadata": {
    "ExecuteTime": {
     "end_time": "2021-07-02T11:01:34.695282Z",
     "start_time": "2021-07-02T11:01:34.673344Z"
    }
   },
   "outputs": [
    {
     "data": {
      "text/plain": [
       "0    3348\n",
       "1     116\n",
       "Name: category, dtype: int64"
      ]
     },
     "execution_count": 81,
     "metadata": {},
     "output_type": "execute_result"
    }
   ],
   "source": [
    "train['category'].value_counts()"
   ]
  },
  {
   "cell_type": "code",
   "execution_count": null,
   "metadata": {},
   "outputs": [],
   "source": []
  },
  {
   "cell_type": "code",
   "execution_count": 31,
   "metadata": {
    "ExecuteTime": {
     "end_time": "2021-07-02T10:42:53.986814Z",
     "start_time": "2021-07-02T10:42:53.970856Z"
    }
   },
   "outputs": [
    {
     "data": {
      "text/html": [
       "<div>\n",
       "<style scoped>\n",
       "    .dataframe tbody tr th:only-of-type {\n",
       "        vertical-align: middle;\n",
       "    }\n",
       "\n",
       "    .dataframe tbody tr th {\n",
       "        vertical-align: top;\n",
       "    }\n",
       "\n",
       "    .dataframe thead th {\n",
       "        text-align: right;\n",
       "    }\n",
       "</style>\n",
       "<table border=\"1\" class=\"dataframe\">\n",
       "  <thead>\n",
       "    <tr style=\"text-align: right;\">\n",
       "      <th></th>\n",
       "      <th>id</th>\n",
       "      <th>text</th>\n",
       "    </tr>\n",
       "  </thead>\n",
       "  <tbody>\n",
       "    <tr>\n",
       "      <th>0</th>\n",
       "      <td>3729</td>\n",
       "      <td>2705 4888 5050 5815 2472 5157 652 2117 2110 32...</td>\n",
       "    </tr>\n",
       "    <tr>\n",
       "      <th>1</th>\n",
       "      <td>3732</td>\n",
       "      <td>389 4978 315 5178 513 5249 5853 3267 315 3891 ...</td>\n",
       "    </tr>\n",
       "    <tr>\n",
       "      <th>2</th>\n",
       "      <td>3761</td>\n",
       "      <td>4478 4231 4858 2638 4231 867 371 686 4888 4179...</td>\n",
       "    </tr>\n",
       "    <tr>\n",
       "      <th>3</th>\n",
       "      <td>5</td>\n",
       "      <td>3015 1911 112 3905 825 337 315 1693 4677 825 5...</td>\n",
       "    </tr>\n",
       "    <tr>\n",
       "      <th>4</th>\n",
       "      <td>7</td>\n",
       "      <td>5136 3918 5153 2023 3091 4159 315 3711 1409 27...</td>\n",
       "    </tr>\n",
       "  </tbody>\n",
       "</table>\n",
       "</div>"
      ],
      "text/plain": [
       "     id                                               text\n",
       "0  3729  2705 4888 5050 5815 2472 5157 652 2117 2110 32...\n",
       "1  3732  389 4978 315 5178 513 5249 5853 3267 315 3891 ...\n",
       "2  3761  4478 4231 4858 2638 4231 867 371 686 4888 4179...\n",
       "3     5  3015 1911 112 3905 825 337 315 1693 4677 825 5...\n",
       "4     7  5136 3918 5153 2023 3091 4159 315 3711 1409 27..."
      ]
     },
     "execution_count": 31,
     "metadata": {},
     "output_type": "execute_result"
    }
   ],
   "source": [
    "test.head()"
   ]
  },
  {
   "cell_type": "code",
   "execution_count": 32,
   "metadata": {
    "ExecuteTime": {
     "end_time": "2021-07-02T10:42:54.486002Z",
     "start_time": "2021-07-02T10:42:54.475031Z"
    }
   },
   "outputs": [
    {
     "data": {
      "text/plain": [
       "0      5573 1189 4017 1207 4768 8542 17 1189 5085 5773\n",
       "1         6315 7507 6700 4742 1944 2692 3647 4413 6700\n",
       "2                        5015 8067 5335 1615 7957 5773\n",
       "3    2925 7199 1994 4647 7455 5773 4518 2734 2807 8...\n",
       "4                    7136 1207 6781 237 4971 3669 6193\n",
       "Name: text, dtype: object"
      ]
     },
     "execution_count": 32,
     "metadata": {},
     "output_type": "execute_result"
    }
   ],
   "source": [
    "train1=train['text']\n",
    "train1.head()"
   ]
  },
  {
   "cell_type": "code",
   "execution_count": 33,
   "metadata": {
    "ExecuteTime": {
     "end_time": "2021-07-02T10:42:55.100680Z",
     "start_time": "2021-07-02T10:42:55.082727Z"
    }
   },
   "outputs": [
    {
     "data": {
      "text/plain": [
       "0    2705 4888 5050 5815 2472 5157 652 2117 2110 32...\n",
       "1    389 4978 315 5178 513 5249 5853 3267 315 3891 ...\n",
       "2    4478 4231 4858 2638 4231 867 371 686 4888 4179...\n",
       "3    3015 1911 112 3905 825 337 315 1693 4677 825 5...\n",
       "4    5136 3918 5153 2023 3091 4159 315 3711 1409 27...\n",
       "Name: text, dtype: object"
      ]
     },
     "execution_count": 33,
     "metadata": {},
     "output_type": "execute_result"
    }
   ],
   "source": [
    "test1=test['text']\n",
    "test1.head()"
   ]
  },
  {
   "cell_type": "code",
   "execution_count": 34,
   "metadata": {
    "ExecuteTime": {
     "end_time": "2021-07-02T10:42:55.710060Z",
     "start_time": "2021-07-02T10:42:55.698092Z"
    }
   },
   "outputs": [
    {
     "data": {
      "text/plain": [
       "3.207595586348473e+111"
      ]
     },
     "execution_count": 34,
     "metadata": {},
     "output_type": "execute_result"
    }
   ],
   "source": [
    "train['category'].mean()"
   ]
  },
  {
   "cell_type": "code",
   "execution_count": 53,
   "metadata": {
    "ExecuteTime": {
     "end_time": "2021-07-02T10:48:49.050631Z",
     "start_time": "2021-07-02T10:48:49.036668Z"
    }
   },
   "outputs": [],
   "source": [
    "from sklearn.model_selection import train_test_split\n",
    "\n",
    "# Split data into training and test sets\n",
    "X_train, X_test, y_train, y_test = train_test_split(train['text'], \n",
    "                                                    train['category'], \n",
    "                                                    random_state=0)"
   ]
  },
  {
   "cell_type": "code",
   "execution_count": 36,
   "metadata": {
    "ExecuteTime": {
     "end_time": "2021-07-02T10:42:57.553435Z",
     "start_time": "2021-07-02T10:42:57.535485Z"
    }
   },
   "outputs": [
    {
     "name": "stdout",
     "output_type": "stream",
     "text": [
      "X_train first entry:\n",
      "\n",
      " 1047 6700 4178 2912 183 6700\n",
      "\n",
      "\n",
      "X_train shape:  (2598,)\n"
     ]
    }
   ],
   "source": [
    "print('X_train first entry:\\n\\n', X_train.iloc[0])\n",
    "print('\\n\\nX_train shape: ', X_train.shape)"
   ]
  },
  {
   "cell_type": "markdown",
   "metadata": {},
   "source": [
    "### count vectorization"
   ]
  },
  {
   "cell_type": "code",
   "execution_count": 37,
   "metadata": {
    "ExecuteTime": {
     "end_time": "2021-07-02T10:42:59.472641Z",
     "start_time": "2021-07-02T10:42:59.392398Z"
    }
   },
   "outputs": [],
   "source": [
    "from sklearn.feature_extraction.text import CountVectorizer\n",
    "\n",
    "# Fit the CountVectorizer to the training data\n",
    "vect = CountVectorizer().fit(X_train)"
   ]
  },
  {
   "cell_type": "code",
   "execution_count": 38,
   "metadata": {
    "ExecuteTime": {
     "end_time": "2021-07-02T10:43:00.760590Z",
     "start_time": "2021-07-02T10:43:00.745635Z"
    }
   },
   "outputs": [
    {
     "data": {
      "text/plain": [
       "CountVectorizer()"
      ]
     },
     "execution_count": 38,
     "metadata": {},
     "output_type": "execute_result"
    }
   ],
   "source": [
    "vect"
   ]
  },
  {
   "cell_type": "code",
   "execution_count": 39,
   "metadata": {
    "ExecuteTime": {
     "end_time": "2021-07-02T10:43:04.162263Z",
     "start_time": "2021-07-02T10:43:04.141322Z"
    }
   },
   "outputs": [
    {
     "data": {
      "text/plain": [
       "['100', '203', '3104', '4155', '5205', '6272', '7331', '8374']"
      ]
     },
     "execution_count": 39,
     "metadata": {},
     "output_type": "execute_result"
    }
   ],
   "source": [
    "vect.get_feature_names()[::1000]"
   ]
  },
  {
   "cell_type": "code",
   "execution_count": 40,
   "metadata": {
    "ExecuteTime": {
     "end_time": "2021-07-02T10:43:04.551736Z",
     "start_time": "2021-07-02T10:43:04.539765Z"
    }
   },
   "outputs": [
    {
     "data": {
      "text/plain": [
       "7354"
      ]
     },
     "execution_count": 40,
     "metadata": {},
     "output_type": "execute_result"
    }
   ],
   "source": [
    "len(vect.get_feature_names())"
   ]
  },
  {
   "cell_type": "code",
   "execution_count": 41,
   "metadata": {
    "ExecuteTime": {
     "end_time": "2021-07-02T10:43:06.569577Z",
     "start_time": "2021-07-02T10:43:06.490176Z"
    }
   },
   "outputs": [
    {
     "data": {
      "text/plain": [
       "<2598x7354 sparse matrix of type '<class 'numpy.int64'>'\n",
       "\twith 40915 stored elements in Compressed Sparse Row format>"
      ]
     },
     "execution_count": 41,
     "metadata": {},
     "output_type": "execute_result"
    }
   ],
   "source": [
    "# transform the documents in the training data to a document-term matrix\n",
    "X_train_vectorized = vect.transform(X_train)\n",
    "\n",
    "X_train_vectorized"
   ]
  },
  {
   "cell_type": "code",
   "execution_count": 42,
   "metadata": {
    "ExecuteTime": {
     "end_time": "2021-07-02T10:43:16.019785Z",
     "start_time": "2021-07-02T10:43:15.899112Z"
    }
   },
   "outputs": [
    {
     "data": {
      "text/plain": [
       "LogisticRegression()"
      ]
     },
     "execution_count": 42,
     "metadata": {},
     "output_type": "execute_result"
    }
   ],
   "source": [
    "from sklearn.linear_model import LogisticRegression\n",
    "\n",
    "# Train the model\n",
    "model = LogisticRegression()\n",
    "model.fit(X_train_vectorized, y_train)"
   ]
  },
  {
   "cell_type": "code",
   "execution_count": 43,
   "metadata": {
    "ExecuteTime": {
     "end_time": "2021-07-02T10:43:17.376320Z",
     "start_time": "2021-07-02T10:43:17.329445Z"
    }
   },
   "outputs": [
    {
     "name": "stdout",
     "output_type": "stream",
     "text": [
      "AUC:  0.8666666666666667\n"
     ]
    }
   ],
   "source": [
    "from sklearn.metrics import roc_auc_score\n",
    "\n",
    "# Predict the transformed test documents\n",
    "predictions = model.predict(vect.transform(X_test))\n",
    "\n",
    "print('AUC: ', roc_auc_score(y_test, predictions))"
   ]
  },
  {
   "cell_type": "markdown",
   "metadata": {},
   "source": [
    "### Fitting the model"
   ]
  },
  {
   "cell_type": "code",
   "execution_count": 62,
   "metadata": {
    "ExecuteTime": {
     "end_time": "2021-07-02T10:51:31.074222Z",
     "start_time": "2021-07-02T10:51:31.061258Z"
    }
   },
   "outputs": [
    {
     "data": {
      "text/plain": [
       "0       2705 4888 5050 5815 2472 5157 652 2117 2110 32...\n",
       "1       389 4978 315 5178 513 5249 5853 3267 315 3891 ...\n",
       "2       4478 4231 4858 2638 4231 867 371 686 4888 4179...\n",
       "3       3015 1911 112 3905 825 337 315 1693 4677 825 5...\n",
       "4       5136 3918 5153 2023 3091 4159 315 3711 1409 27...\n",
       "                              ...                        \n",
       "1355    3163 4030 3892 3405 1470 2893 3163 4372 4151 3...\n",
       "1356    2336 5820 5775 5853 1392 2336 3777 5655 1355 2...\n",
       "1357    123 4888 1158 5566 2025 2703 1241 652 4030 202...\n",
       "1358    5120 3886 5920 5289 750 4304 2283 3747 2118 32...\n",
       "1359    2808 1703 2496 4362 2443 4666 497 4677 2543 56...\n",
       "Name: text, Length: 1360, dtype: object"
      ]
     },
     "execution_count": 62,
     "metadata": {},
     "output_type": "execute_result"
    }
   ],
   "source": [
    "test1"
   ]
  },
  {
   "cell_type": "code",
   "execution_count": 63,
   "metadata": {
    "ExecuteTime": {
     "end_time": "2021-07-02T10:52:05.386993Z",
     "start_time": "2021-07-02T10:52:05.314841Z"
    }
   },
   "outputs": [],
   "source": [
    "from sklearn.feature_extraction.text import CountVectorizer\n",
    "\n",
    "# Fit the CountVectorizer to the training data\n",
    "vect1 = CountVectorizer().fit(test1)"
   ]
  },
  {
   "cell_type": "code",
   "execution_count": 64,
   "metadata": {
    "ExecuteTime": {
     "end_time": "2021-07-02T10:52:06.033167Z",
     "start_time": "2021-07-02T10:52:06.019205Z"
    }
   },
   "outputs": [
    {
     "data": {
      "text/plain": [
       "CountVectorizer()"
      ]
     },
     "execution_count": 64,
     "metadata": {},
     "output_type": "execute_result"
    }
   ],
   "source": [
    "vect1"
   ]
  },
  {
   "cell_type": "code",
   "execution_count": 65,
   "metadata": {
    "ExecuteTime": {
     "end_time": "2021-07-02T10:52:06.701423Z",
     "start_time": "2021-07-02T10:52:06.685799Z"
    }
   },
   "outputs": [
    {
     "data": {
      "text/plain": [
       "['10', '1925', '2853', '3785', '4709', '5637']"
      ]
     },
     "execution_count": 65,
     "metadata": {},
     "output_type": "execute_result"
    }
   ],
   "source": [
    "vect1.get_feature_names()[::1000]"
   ]
  },
  {
   "cell_type": "code",
   "execution_count": 66,
   "metadata": {
    "ExecuteTime": {
     "end_time": "2021-07-02T10:52:15.350154Z",
     "start_time": "2021-07-02T10:52:15.334674Z"
    }
   },
   "outputs": [
    {
     "data": {
      "text/plain": [
       "5762"
      ]
     },
     "execution_count": 66,
     "metadata": {},
     "output_type": "execute_result"
    }
   ],
   "source": [
    "len(vect1.get_feature_names())"
   ]
  },
  {
   "cell_type": "code",
   "execution_count": 67,
   "metadata": {
    "ExecuteTime": {
     "end_time": "2021-07-02T10:52:52.667426Z",
     "start_time": "2021-07-02T10:52:52.581982Z"
    }
   },
   "outputs": [
    {
     "data": {
      "text/plain": [
       "<1360x2206 sparse matrix of type '<class 'numpy.int64'>'\n",
       "\twith 3416 stored elements in Compressed Sparse Row format>"
      ]
     },
     "execution_count": 67,
     "metadata": {},
     "output_type": "execute_result"
    }
   ],
   "source": [
    "# transform the documents in the testing data to a document-term matrix\n",
    "test_vectorized = vect.transform(test1)\n",
    "\n",
    "test_vectorized"
   ]
  },
  {
   "cell_type": "code",
   "execution_count": 72,
   "metadata": {
    "ExecuteTime": {
     "end_time": "2021-07-02T10:57:20.279175Z",
     "start_time": "2021-07-02T10:57:20.271198Z"
    }
   },
   "outputs": [],
   "source": [
    "# # Train the model\n",
    "# model = LogisticRegression()\n",
    "# model.fit(test_vectorized)"
   ]
  },
  {
   "cell_type": "code",
   "execution_count": 73,
   "metadata": {
    "ExecuteTime": {
     "end_time": "2021-07-02T10:57:46.653490Z",
     "start_time": "2021-07-02T10:57:46.514966Z"
    }
   },
   "outputs": [],
   "source": [
    "model = LogisticRegression()\n",
    "model.fit(X_train_vectorized, y_train)\n",
    "\n",
    "predictions = model.predict(vect.transform(test1))"
   ]
  },
  {
   "cell_type": "code",
   "execution_count": 75,
   "metadata": {
    "ExecuteTime": {
     "end_time": "2021-07-02T10:58:06.432028Z",
     "start_time": "2021-07-02T10:58:06.415075Z"
    }
   },
   "outputs": [
    {
     "data": {
      "text/plain": [
       "1360"
      ]
     },
     "execution_count": 75,
     "metadata": {},
     "output_type": "execute_result"
    }
   ],
   "source": [
    "len(predictions)"
   ]
  },
  {
   "cell_type": "code",
   "execution_count": 76,
   "metadata": {
    "ExecuteTime": {
     "end_time": "2021-07-02T10:58:20.297111Z",
     "start_time": "2021-07-02T10:58:20.283183Z"
    }
   },
   "outputs": [
    {
     "data": {
      "text/plain": [
       "1360"
      ]
     },
     "execution_count": 76,
     "metadata": {},
     "output_type": "execute_result"
    }
   ],
   "source": [
    "len(test)"
   ]
  },
  {
   "cell_type": "code",
   "execution_count": 77,
   "metadata": {
    "ExecuteTime": {
     "end_time": "2021-07-02T11:00:18.930156Z",
     "start_time": "2021-07-02T11:00:18.915197Z"
    }
   },
   "outputs": [],
   "source": [
    "pred = pd.DataFrame(predictions, columns = ['category'])"
   ]
  },
  {
   "cell_type": "code",
   "execution_count": 82,
   "metadata": {
    "ExecuteTime": {
     "end_time": "2021-07-02T11:11:31.048759Z",
     "start_time": "2021-07-02T11:11:31.036827Z"
    }
   },
   "outputs": [
    {
     "data": {
      "text/plain": [
       "0    1360\n",
       "Name: category, dtype: int64"
      ]
     },
     "execution_count": 82,
     "metadata": {},
     "output_type": "execute_result"
    }
   ],
   "source": [
    "pred['category'].value_counts()"
   ]
  },
  {
   "cell_type": "code",
   "execution_count": 83,
   "metadata": {
    "ExecuteTime": {
     "end_time": "2021-07-02T11:12:25.065810Z",
     "start_time": "2021-07-02T11:12:25.053841Z"
    }
   },
   "outputs": [
    {
     "data": {
      "text/html": [
       "<div>\n",
       "<style scoped>\n",
       "    .dataframe tbody tr th:only-of-type {\n",
       "        vertical-align: middle;\n",
       "    }\n",
       "\n",
       "    .dataframe tbody tr th {\n",
       "        vertical-align: top;\n",
       "    }\n",
       "\n",
       "    .dataframe thead th {\n",
       "        text-align: right;\n",
       "    }\n",
       "</style>\n",
       "<table border=\"1\" class=\"dataframe\">\n",
       "  <thead>\n",
       "    <tr style=\"text-align: right;\">\n",
       "      <th></th>\n",
       "      <th>category</th>\n",
       "    </tr>\n",
       "  </thead>\n",
       "  <tbody>\n",
       "    <tr>\n",
       "      <th>0</th>\n",
       "      <td>0</td>\n",
       "    </tr>\n",
       "    <tr>\n",
       "      <th>1</th>\n",
       "      <td>0</td>\n",
       "    </tr>\n",
       "    <tr>\n",
       "      <th>2</th>\n",
       "      <td>0</td>\n",
       "    </tr>\n",
       "    <tr>\n",
       "      <th>3</th>\n",
       "      <td>0</td>\n",
       "    </tr>\n",
       "    <tr>\n",
       "      <th>4</th>\n",
       "      <td>0</td>\n",
       "    </tr>\n",
       "    <tr>\n",
       "      <th>...</th>\n",
       "      <td>...</td>\n",
       "    </tr>\n",
       "    <tr>\n",
       "      <th>1355</th>\n",
       "      <td>0</td>\n",
       "    </tr>\n",
       "    <tr>\n",
       "      <th>1356</th>\n",
       "      <td>0</td>\n",
       "    </tr>\n",
       "    <tr>\n",
       "      <th>1357</th>\n",
       "      <td>0</td>\n",
       "    </tr>\n",
       "    <tr>\n",
       "      <th>1358</th>\n",
       "      <td>0</td>\n",
       "    </tr>\n",
       "    <tr>\n",
       "      <th>1359</th>\n",
       "      <td>0</td>\n",
       "    </tr>\n",
       "  </tbody>\n",
       "</table>\n",
       "<p>1360 rows × 1 columns</p>\n",
       "</div>"
      ],
      "text/plain": [
       "     category\n",
       "0           0\n",
       "1           0\n",
       "2           0\n",
       "3           0\n",
       "4           0\n",
       "...       ...\n",
       "1355        0\n",
       "1356        0\n",
       "1357        0\n",
       "1358        0\n",
       "1359        0\n",
       "\n",
       "[1360 rows x 1 columns]"
      ]
     },
     "execution_count": 83,
     "metadata": {},
     "output_type": "execute_result"
    }
   ],
   "source": [
    "pred"
   ]
  },
  {
   "cell_type": "code",
   "execution_count": 84,
   "metadata": {
    "ExecuteTime": {
     "end_time": "2021-07-02T11:12:28.163223Z",
     "start_time": "2021-07-02T11:12:28.136296Z"
    }
   },
   "outputs": [
    {
     "data": {
      "text/html": [
       "<div>\n",
       "<style scoped>\n",
       "    .dataframe tbody tr th:only-of-type {\n",
       "        vertical-align: middle;\n",
       "    }\n",
       "\n",
       "    .dataframe tbody tr th {\n",
       "        vertical-align: top;\n",
       "    }\n",
       "\n",
       "    .dataframe thead th {\n",
       "        text-align: right;\n",
       "    }\n",
       "</style>\n",
       "<table border=\"1\" class=\"dataframe\">\n",
       "  <thead>\n",
       "    <tr style=\"text-align: right;\">\n",
       "      <th></th>\n",
       "      <th>id</th>\n",
       "      <th>text</th>\n",
       "    </tr>\n",
       "  </thead>\n",
       "  <tbody>\n",
       "    <tr>\n",
       "      <th>0</th>\n",
       "      <td>3729</td>\n",
       "      <td>2705 4888 5050 5815 2472 5157 652 2117 2110 32...</td>\n",
       "    </tr>\n",
       "    <tr>\n",
       "      <th>1</th>\n",
       "      <td>3732</td>\n",
       "      <td>389 4978 315 5178 513 5249 5853 3267 315 3891 ...</td>\n",
       "    </tr>\n",
       "    <tr>\n",
       "      <th>2</th>\n",
       "      <td>3761</td>\n",
       "      <td>4478 4231 4858 2638 4231 867 371 686 4888 4179...</td>\n",
       "    </tr>\n",
       "    <tr>\n",
       "      <th>3</th>\n",
       "      <td>5</td>\n",
       "      <td>3015 1911 112 3905 825 337 315 1693 4677 825 5...</td>\n",
       "    </tr>\n",
       "    <tr>\n",
       "      <th>4</th>\n",
       "      <td>7</td>\n",
       "      <td>5136 3918 5153 2023 3091 4159 315 3711 1409 27...</td>\n",
       "    </tr>\n",
       "    <tr>\n",
       "      <th>...</th>\n",
       "      <td>...</td>\n",
       "      <td>...</td>\n",
       "    </tr>\n",
       "    <tr>\n",
       "      <th>1355</th>\n",
       "      <td>311</td>\n",
       "      <td>3163 4030 3892 3405 1470 2893 3163 4372 4151 3...</td>\n",
       "    </tr>\n",
       "    <tr>\n",
       "      <th>1356</th>\n",
       "      <td>324</td>\n",
       "      <td>2336 5820 5775 5853 1392 2336 3777 5655 1355 2...</td>\n",
       "    </tr>\n",
       "    <tr>\n",
       "      <th>1357</th>\n",
       "      <td>329</td>\n",
       "      <td>123 4888 1158 5566 2025 2703 1241 652 4030 202...</td>\n",
       "    </tr>\n",
       "    <tr>\n",
       "      <th>1358</th>\n",
       "      <td>342</td>\n",
       "      <td>5120 3886 5920 5289 750 4304 2283 3747 2118 32...</td>\n",
       "    </tr>\n",
       "    <tr>\n",
       "      <th>1359</th>\n",
       "      <td>352</td>\n",
       "      <td>2808 1703 2496 4362 2443 4666 497 4677 2543 56...</td>\n",
       "    </tr>\n",
       "  </tbody>\n",
       "</table>\n",
       "<p>1360 rows × 2 columns</p>\n",
       "</div>"
      ],
      "text/plain": [
       "        id                                               text\n",
       "0     3729  2705 4888 5050 5815 2472 5157 652 2117 2110 32...\n",
       "1     3732  389 4978 315 5178 513 5249 5853 3267 315 3891 ...\n",
       "2     3761  4478 4231 4858 2638 4231 867 371 686 4888 4179...\n",
       "3        5  3015 1911 112 3905 825 337 315 1693 4677 825 5...\n",
       "4        7  5136 3918 5153 2023 3091 4159 315 3711 1409 27...\n",
       "...    ...                                                ...\n",
       "1355   311  3163 4030 3892 3405 1470 2893 3163 4372 4151 3...\n",
       "1356   324  2336 5820 5775 5853 1392 2336 3777 5655 1355 2...\n",
       "1357   329  123 4888 1158 5566 2025 2703 1241 652 4030 202...\n",
       "1358   342  5120 3886 5920 5289 750 4304 2283 3747 2118 32...\n",
       "1359   352  2808 1703 2496 4362 2443 4666 497 4677 2543 56...\n",
       "\n",
       "[1360 rows x 2 columns]"
      ]
     },
     "execution_count": 84,
     "metadata": {},
     "output_type": "execute_result"
    }
   ],
   "source": [
    "test"
   ]
  },
  {
   "cell_type": "code",
   "execution_count": 86,
   "metadata": {
    "ExecuteTime": {
     "end_time": "2021-07-02T11:14:01.245298Z",
     "start_time": "2021-07-02T11:14:01.226353Z"
    }
   },
   "outputs": [
    {
     "data": {
      "text/html": [
       "<div>\n",
       "<style scoped>\n",
       "    .dataframe tbody tr th:only-of-type {\n",
       "        vertical-align: middle;\n",
       "    }\n",
       "\n",
       "    .dataframe tbody tr th {\n",
       "        vertical-align: top;\n",
       "    }\n",
       "\n",
       "    .dataframe thead th {\n",
       "        text-align: right;\n",
       "    }\n",
       "</style>\n",
       "<table border=\"1\" class=\"dataframe\">\n",
       "  <thead>\n",
       "    <tr style=\"text-align: right;\">\n",
       "      <th></th>\n",
       "      <th>id</th>\n",
       "      <th>text</th>\n",
       "      <th>category</th>\n",
       "    </tr>\n",
       "  </thead>\n",
       "  <tbody>\n",
       "    <tr>\n",
       "      <th>0</th>\n",
       "      <td>3729</td>\n",
       "      <td>2705 4888 5050 5815 2472 5157 652 2117 2110 32...</td>\n",
       "      <td>0</td>\n",
       "    </tr>\n",
       "    <tr>\n",
       "      <th>1</th>\n",
       "      <td>3732</td>\n",
       "      <td>389 4978 315 5178 513 5249 5853 3267 315 3891 ...</td>\n",
       "      <td>0</td>\n",
       "    </tr>\n",
       "    <tr>\n",
       "      <th>2</th>\n",
       "      <td>3761</td>\n",
       "      <td>4478 4231 4858 2638 4231 867 371 686 4888 4179...</td>\n",
       "      <td>0</td>\n",
       "    </tr>\n",
       "    <tr>\n",
       "      <th>3</th>\n",
       "      <td>5</td>\n",
       "      <td>3015 1911 112 3905 825 337 315 1693 4677 825 5...</td>\n",
       "      <td>0</td>\n",
       "    </tr>\n",
       "    <tr>\n",
       "      <th>4</th>\n",
       "      <td>7</td>\n",
       "      <td>5136 3918 5153 2023 3091 4159 315 3711 1409 27...</td>\n",
       "      <td>0</td>\n",
       "    </tr>\n",
       "    <tr>\n",
       "      <th>...</th>\n",
       "      <td>...</td>\n",
       "      <td>...</td>\n",
       "      <td>...</td>\n",
       "    </tr>\n",
       "    <tr>\n",
       "      <th>1355</th>\n",
       "      <td>311</td>\n",
       "      <td>3163 4030 3892 3405 1470 2893 3163 4372 4151 3...</td>\n",
       "      <td>0</td>\n",
       "    </tr>\n",
       "    <tr>\n",
       "      <th>1356</th>\n",
       "      <td>324</td>\n",
       "      <td>2336 5820 5775 5853 1392 2336 3777 5655 1355 2...</td>\n",
       "      <td>0</td>\n",
       "    </tr>\n",
       "    <tr>\n",
       "      <th>1357</th>\n",
       "      <td>329</td>\n",
       "      <td>123 4888 1158 5566 2025 2703 1241 652 4030 202...</td>\n",
       "      <td>0</td>\n",
       "    </tr>\n",
       "    <tr>\n",
       "      <th>1358</th>\n",
       "      <td>342</td>\n",
       "      <td>5120 3886 5920 5289 750 4304 2283 3747 2118 32...</td>\n",
       "      <td>0</td>\n",
       "    </tr>\n",
       "    <tr>\n",
       "      <th>1359</th>\n",
       "      <td>352</td>\n",
       "      <td>2808 1703 2496 4362 2443 4666 497 4677 2543 56...</td>\n",
       "      <td>0</td>\n",
       "    </tr>\n",
       "  </tbody>\n",
       "</table>\n",
       "<p>1360 rows × 3 columns</p>\n",
       "</div>"
      ],
      "text/plain": [
       "        id                                               text category\n",
       "0     3729  2705 4888 5050 5815 2472 5157 652 2117 2110 32...        0\n",
       "1     3732  389 4978 315 5178 513 5249 5853 3267 315 3891 ...        0\n",
       "2     3761  4478 4231 4858 2638 4231 867 371 686 4888 4179...        0\n",
       "3        5  3015 1911 112 3905 825 337 315 1693 4677 825 5...        0\n",
       "4        7  5136 3918 5153 2023 3091 4159 315 3711 1409 27...        0\n",
       "...    ...                                                ...      ...\n",
       "1355   311  3163 4030 3892 3405 1470 2893 3163 4372 4151 3...        0\n",
       "1356   324  2336 5820 5775 5853 1392 2336 3777 5655 1355 2...        0\n",
       "1357   329  123 4888 1158 5566 2025 2703 1241 652 4030 202...        0\n",
       "1358   342  5120 3886 5920 5289 750 4304 2283 3747 2118 32...        0\n",
       "1359   352  2808 1703 2496 4362 2443 4666 497 4677 2543 56...        0\n",
       "\n",
       "[1360 rows x 3 columns]"
      ]
     },
     "execution_count": 86,
     "metadata": {},
     "output_type": "execute_result"
    }
   ],
   "source": [
    "df3 = pd.merge(test, pred, left_index=True, right_index=True)\n",
    "df3"
   ]
  },
  {
   "cell_type": "code",
   "execution_count": 87,
   "metadata": {
    "ExecuteTime": {
     "end_time": "2021-07-02T11:15:06.756617Z",
     "start_time": "2021-07-02T11:15:06.726697Z"
    }
   },
   "outputs": [
    {
     "data": {
      "text/html": [
       "<div>\n",
       "<style scoped>\n",
       "    .dataframe tbody tr th:only-of-type {\n",
       "        vertical-align: middle;\n",
       "    }\n",
       "\n",
       "    .dataframe tbody tr th {\n",
       "        vertical-align: top;\n",
       "    }\n",
       "\n",
       "    .dataframe thead th {\n",
       "        text-align: right;\n",
       "    }\n",
       "</style>\n",
       "<table border=\"1\" class=\"dataframe\">\n",
       "  <thead>\n",
       "    <tr style=\"text-align: right;\">\n",
       "      <th></th>\n",
       "      <th>id</th>\n",
       "      <th>category</th>\n",
       "    </tr>\n",
       "  </thead>\n",
       "  <tbody>\n",
       "    <tr>\n",
       "      <th>0</th>\n",
       "      <td>3729</td>\n",
       "      <td>0</td>\n",
       "    </tr>\n",
       "    <tr>\n",
       "      <th>1</th>\n",
       "      <td>3732</td>\n",
       "      <td>0</td>\n",
       "    </tr>\n",
       "    <tr>\n",
       "      <th>2</th>\n",
       "      <td>3761</td>\n",
       "      <td>0</td>\n",
       "    </tr>\n",
       "    <tr>\n",
       "      <th>3</th>\n",
       "      <td>5</td>\n",
       "      <td>0</td>\n",
       "    </tr>\n",
       "    <tr>\n",
       "      <th>4</th>\n",
       "      <td>7</td>\n",
       "      <td>0</td>\n",
       "    </tr>\n",
       "    <tr>\n",
       "      <th>...</th>\n",
       "      <td>...</td>\n",
       "      <td>...</td>\n",
       "    </tr>\n",
       "    <tr>\n",
       "      <th>1355</th>\n",
       "      <td>311</td>\n",
       "      <td>0</td>\n",
       "    </tr>\n",
       "    <tr>\n",
       "      <th>1356</th>\n",
       "      <td>324</td>\n",
       "      <td>0</td>\n",
       "    </tr>\n",
       "    <tr>\n",
       "      <th>1357</th>\n",
       "      <td>329</td>\n",
       "      <td>0</td>\n",
       "    </tr>\n",
       "    <tr>\n",
       "      <th>1358</th>\n",
       "      <td>342</td>\n",
       "      <td>0</td>\n",
       "    </tr>\n",
       "    <tr>\n",
       "      <th>1359</th>\n",
       "      <td>352</td>\n",
       "      <td>0</td>\n",
       "    </tr>\n",
       "  </tbody>\n",
       "</table>\n",
       "<p>1360 rows × 2 columns</p>\n",
       "</div>"
      ],
      "text/plain": [
       "        id category\n",
       "0     3729        0\n",
       "1     3732        0\n",
       "2     3761        0\n",
       "3        5        0\n",
       "4        7        0\n",
       "...    ...      ...\n",
       "1355   311        0\n",
       "1356   324        0\n",
       "1357   329        0\n",
       "1358   342        0\n",
       "1359   352        0\n",
       "\n",
       "[1360 rows x 2 columns]"
      ]
     },
     "execution_count": 87,
     "metadata": {},
     "output_type": "execute_result"
    }
   ],
   "source": [
    "df3 = df3.drop(columns = 'text')\n",
    "df3"
   ]
  },
  {
   "cell_type": "code",
   "execution_count": 88,
   "metadata": {
    "ExecuteTime": {
     "end_time": "2021-07-02T11:15:40.505450Z",
     "start_time": "2021-07-02T11:15:40.484469Z"
    }
   },
   "outputs": [],
   "source": [
    "df3.to_csv(r'C:\\Users\\Admin\\Desktop\\skillenza.csv', index = False, header=True)"
   ]
  },
  {
   "cell_type": "code",
   "execution_count": null,
   "metadata": {},
   "outputs": [],
   "source": []
  },
  {
   "cell_type": "code",
   "execution_count": null,
   "metadata": {},
   "outputs": [],
   "source": []
  }
 ],
 "metadata": {
  "kernelspec": {
   "display_name": "Python 3",
   "language": "python",
   "name": "python3"
  },
  "language_info": {
   "codemirror_mode": {
    "name": "ipython",
    "version": 3
   },
   "file_extension": ".py",
   "mimetype": "text/x-python",
   "name": "python",
   "nbconvert_exporter": "python",
   "pygments_lexer": "ipython3",
   "version": "3.8.5"
  },
  "varInspector": {
   "cols": {
    "lenName": 16,
    "lenType": 16,
    "lenVar": 40
   },
   "kernels_config": {
    "python": {
     "delete_cmd_postfix": "",
     "delete_cmd_prefix": "del ",
     "library": "var_list.py",
     "varRefreshCmd": "print(var_dic_list())"
    },
    "r": {
     "delete_cmd_postfix": ") ",
     "delete_cmd_prefix": "rm(",
     "library": "var_list.r",
     "varRefreshCmd": "cat(var_dic_list()) "
    }
   },
   "types_to_exclude": [
    "module",
    "function",
    "builtin_function_or_method",
    "instance",
    "_Feature"
   ],
   "window_display": false
  }
 },
 "nbformat": 4,
 "nbformat_minor": 4
}
